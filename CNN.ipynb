{
  "nbformat": 4,
  "nbformat_minor": 0,
  "metadata": {
    "colab": {
      "name": "Nana_Karapetyan_CNN_Step_by_Step.ipynb",
      "provenance": [],
      "collapsed_sections": []
    },
    "kernelspec": {
      "name": "python3",
      "display_name": "Python 3"
    }
  },
  "cells": [
    {
      "cell_type": "markdown",
      "metadata": {
        "id": "Ddw8xYAzQuT3",
        "colab_type": "text"
      },
      "source": [
        "# Convolutional Neural Networks: Step by Step\n",
        "\n",
        "Welcome to Course 4's first assignment! In this assignment, you will implement convolutional (CONV) and pooling (POOL) layers in torch, including forward propagation. \n",
        "\n",
        "**Notation**:\n",
        "- Superscript $[l]$ denotes an object of the $l^{th}$ layer. \n",
        "    - Example: $a^{[4]}$ is the $4^{th}$ layer activation. $W^{[5]}$ and $b^{[5]}$ are the $5^{th}$ layer parameters.\n",
        "\n",
        "\n",
        "- Superscript $(i)$ denotes an object from the $i^{th}$ example. \n",
        "    - Example: $x^{(i)}$ is the $i^{th}$ training example input.\n",
        "    \n",
        "    \n",
        "- Subscript $i$ denotes the $i^{th}$ entry of a vector.\n",
        "    - Example: $a^{[l]}_i$ denotes the $i^{th}$ entry of the activations in layer $l$, assuming this is a fully connected (FC) layer.\n",
        "    \n",
        "    \n",
        "- $n_H$, $n_W$ and $n_C$ denote respectively the height, width and number of channels of a given layer. If you want to reference a specific layer $l$, you can also write $n_H^{[l]}$, $n_W^{[l]}$, $n_C^{[l]}$. \n",
        "- $n_{H_{prev}}$, $n_{W_{prev}}$ and $n_{C_{prev}}$ denote respectively the height, width and number of channels of the previous layer. If referencing a specific layer $l$, this could also be denoted $n_H^{[l-1]}$, $n_W^{[l-1]}$, $n_C^{[l-1]}$. \n",
        "\n"
      ]
    },
    {
      "cell_type": "markdown",
      "metadata": {
        "id": "7B0eu9j5QuT6",
        "colab_type": "text"
      },
      "source": [
        "## 1 - Packages\n",
        "\n",
        "Let's first import all the packages that you will need during this assignment. \n"
      ]
    },
    {
      "cell_type": "code",
      "metadata": {
        "id": "oFnf7CuWQuT7",
        "colab_type": "code",
        "outputId": "ff475fec-00ac-45b3-b219-24bba6f88251",
        "colab": {
          "base_uri": "https://localhost:8080/",
          "height": 70
        }
      },
      "source": [
        "import torch\n",
        "import torch.nn as nn\n",
        "import h5py\n",
        "import matplotlib.pyplot as plt\n",
        "\n",
        "%matplotlib inline\n",
        "plt.rcParams['figure.figsize'] = (5.0, 4.0) # set default size of plots\n",
        "plt.rcParams['image.interpolation'] = 'nearest'\n",
        "plt.rcParams['image.cmap'] = 'gray'\n",
        "\n",
        "%load_ext autoreload\n",
        "%autoreload 2\n",
        "\n",
        "torch.manual_seed(1)"
      ],
      "execution_count": 80,
      "outputs": [
        {
          "output_type": "stream",
          "text": [
            "The autoreload extension is already loaded. To reload it, use:\n",
            "  %reload_ext autoreload\n"
          ],
          "name": "stdout"
        },
        {
          "output_type": "execute_result",
          "data": {
            "text/plain": [
              "<torch._C.Generator at 0x7fe5535953f0>"
            ]
          },
          "metadata": {
            "tags": []
          },
          "execution_count": 80
        }
      ]
    },
    {
      "cell_type": "markdown",
      "metadata": {
        "id": "gTlj_k0CQuT-",
        "colab_type": "text"
      },
      "source": [
        "## 2 - Outline of the Assignment\n",
        "\n",
        "You will be implementing the building blocks of a convolutional neural network! Each function you will implement will have detailed instructions that will walk you through the steps needed:\n",
        "\n",
        "- Convolution functions, including:\n",
        "    - Zero Padding\n",
        "    - Convolve window \n",
        "    - Convolution forward\n",
        "- Pooling functions, including:\n",
        "    - Pooling forward\n",
        "    - Create mask \n",
        "    - Distribute value\n",
        "    \n",
        "This notebook will ask you to implement these functions from scratch in `torch`.\n",
        "In the next exercize you'll be asked to implement the below architecture in 'Pytorch'\n",
        "\n",
        "![model.png](https://drive.google.com/thumbnail?id=1VPsWSlQqn0LsNUlMq6h0Pw60U9JS0fLE&sz=w700)\n",
        "\n",
        "**Note** that for every forward function, there is its corresponding backward equivalent. Hence, at every step of your forward module you will store some parameters in a cache. These parameters are used to compute gradients during backpropagation. "
      ]
    },
    {
      "cell_type": "markdown",
      "metadata": {
        "id": "jgnf_81FQuT-",
        "colab_type": "text"
      },
      "source": [
        "## 3 - Convolutional Neural Networks\n",
        "\n",
        "Although programming frameworks make convolutions easy to use, they remain one of the hardest concepts to understand in Deep Learning. A convolution layer transforms an input volume into an output volume of different size, as shown below. \n",
        "\n",
        "![conv_nn.png](https://drive.google.com/thumbnail?id=1sGi-CfBFaO6sXhzGQTzKAy5f5ym3-8zq&sz=w500)\n",
        "\n",
        "In this part, you will build every step of the convolution layer. You will first implement two helper functions: one for zero padding and the other for computing the convolution function itself. "
      ]
    },
    {
      "cell_type": "markdown",
      "metadata": {
        "id": "w9MMYGz8QuT_",
        "colab_type": "text"
      },
      "source": [
        "### 3.1 - Zero-Padding\n",
        "\n",
        "Zero-padding adds zeros around the border of an image:\n",
        "\n",
        "![PAD.png](https://drive.google.com/thumbnail?id=1HaF_1ZiNbWdjjpUACo1P31AEAfJnVbgV&sz=w800)\n",
        "\n",
        "<caption><center> <u> <font color='purple'> **Figure 1** </u><font color='purple'>  : **Zero-Padding**<br> Image (3 channels, RGB) with a padding of 2. </center></caption>\n",
        "\n",
        "The main benefits of padding are the following:\n",
        "\n",
        "- It allows you to use a CONV layer without necessarily shrinking the height and width of the volumes. This is important for building deeper networks, since otherwise the height/width would shrink as you go to deeper layers. An important special case is the \"same\" convolution, in which the height/width is exactly preserved after one layer. \n",
        "\n",
        "- It helps us keep more of the information at the border of an image. Without padding, very few values at the next layer would be affected by pixels as the edges of an image.\n",
        "\n",
        "**Exercise**: Implement the following function, which pads all the images of a batch of examples X with zeros. Note: in order to pad a tensor with pad = 2 (meaning two rows of zeros around the image), use the following torch function: nn.ZeroPad2d(pad) (for more details see [here](https://pytorch.org/docs/stable/_modules/torch/nn/modules/padding.html)\n"
      ]
    },
    {
      "cell_type": "code",
      "metadata": {
        "colab_type": "code",
        "id": "fHQ_ELCASg19",
        "colab": {}
      },
      "source": [
        "# GRADED FUNCTION: zero_pad\n",
        "\n",
        "def zero_pad(X, pad):\n",
        "    \"\"\"\n",
        "    Pad with zeros all images of the dataset X. The padding is applied to the height and width of an image, \n",
        "    as illustrated in Figure 1.\n",
        "    \n",
        "    Argument:\n",
        "    X -- torch tensor of shape (m, n_C, n_H, n_W) representing a batch of m images\n",
        "    pad -- integer, amount of padding around each image on vertical and horizontal dimensions\n",
        "    \n",
        "    Returns:\n",
        "    X_pad -- padded image of shape (m, n_C, n_H + 2*pad, n_W + 2*pad)\n",
        "    \"\"\"\n",
        "    \n",
        "    ### START CODE HERE ### (≈ 2 line)\n",
        "    _pad = nn.ZeroPad2d(pad)\n",
        "    X_pad = _pad(X)\n",
        "    \n",
        "    ### END CODE HERE ###\n",
        "    \n",
        "    return X_pad"
      ],
      "execution_count": 0,
      "outputs": []
    },
    {
      "cell_type": "code",
      "metadata": {
        "id": "HHMr0qynQuUC",
        "colab_type": "code",
        "colab": {}
      },
      "source": [
        "torch.manual_seed(1)\n",
        "X = torch.randn(4,2,3,3)"
      ],
      "execution_count": 0,
      "outputs": []
    },
    {
      "cell_type": "code",
      "metadata": {
        "id": "BhN4IY_IT14O",
        "colab_type": "code",
        "outputId": "c631c3bd-12ba-4347-8e85-6ef49042f1f0",
        "colab": {
          "base_uri": "https://localhost:8080/",
          "height": 496
        }
      },
      "source": [
        "x_pad = zero_pad(X, 2)\n",
        "print (\"x.shape =\\n\", X.shape)\n",
        "print (\"x_pad.shape =\\n\", x_pad.shape)\n",
        "print (\"x[1,1] =\\n\", X[1,1])\n",
        "print (\"x_pad[1,1] =\\n\", x_pad[1,1])\n",
        "\n",
        "fig, axarr = plt.subplots(1, 2)\n",
        "axarr[0].set_title('x')\n",
        "axarr[0].imshow(X[0,0,:,:])\n",
        "axarr[1].set_title('x_pad')\n",
        "axarr[1].imshow(x_pad[0,0,:,:])"
      ],
      "execution_count": 83,
      "outputs": [
        {
          "output_type": "stream",
          "text": [
            "x.shape =\n",
            " torch.Size([4, 2, 3, 3])\n",
            "x_pad.shape =\n",
            " torch.Size([4, 2, 7, 7])\n",
            "x[1,1] =\n",
            " tensor([[-1.4465,  0.0612, -0.6177],\n",
            "        [-0.7981, -0.1316,  1.8793],\n",
            "        [-0.0721,  0.1578, -0.7735]])\n",
            "x_pad[1,1] =\n",
            " tensor([[ 0.0000,  0.0000,  0.0000,  0.0000,  0.0000,  0.0000,  0.0000],\n",
            "        [ 0.0000,  0.0000,  0.0000,  0.0000,  0.0000,  0.0000,  0.0000],\n",
            "        [ 0.0000,  0.0000, -1.4465,  0.0612, -0.6177,  0.0000,  0.0000],\n",
            "        [ 0.0000,  0.0000, -0.7981, -0.1316,  1.8793,  0.0000,  0.0000],\n",
            "        [ 0.0000,  0.0000, -0.0721,  0.1578, -0.7735,  0.0000,  0.0000],\n",
            "        [ 0.0000,  0.0000,  0.0000,  0.0000,  0.0000,  0.0000,  0.0000],\n",
            "        [ 0.0000,  0.0000,  0.0000,  0.0000,  0.0000,  0.0000,  0.0000]])\n"
          ],
          "name": "stdout"
        },
        {
          "output_type": "execute_result",
          "data": {
            "text/plain": [
              "<matplotlib.image.AxesImage at 0x7fe54e865400>"
            ]
          },
          "metadata": {
            "tags": []
          },
          "execution_count": 83
        },
        {
          "output_type": "display_data",
          "data": {
            "image/png": "[encoded data removed]",
            "text/plain": [
              "<Figure size 360x288 with 2 Axes>"
            ]
          },
          "metadata": {
            "tags": []
          }
        }
      ]
    },
    {
      "cell_type": "markdown",
      "metadata": {
        "id": "NdhgQ8BTQuUE",
        "colab_type": "text"
      },
      "source": [
        "**Expected Output**:\n",
        "\n",
        "```\n",
        "x.shape =\n",
        " (4, 2, 3, 3)\n",
        "x_pad.shape =\n",
        " (4, 2, 7, 7)\n",
        "x[1,1] =\n",
        " [[-1.4465,  0.0612, -0.6177],\n",
        "  [-0.7981, -0.1316,  1.8793],\n",
        "  [-0.0721,  0.1578, -0.7735]]\n",
        "x_pad[1,1] =\n",
        "[[ 0.0000,  0.0000,  0.0000,  0.0000,  0.0000,  0.0000,  0.0000],\n",
        "[ 0.0000,  0.0000,  0.0000,  0.0000,  0.0000,  0.0000,  0.0000],\n",
        "[ 0.0000,  0.0000, -1.4465,  0.0612, -0.6177,  0.0000,  0.0000],\n",
        "[ 0.0000,  0.0000, -0.7981, -0.1316,  1.8793,  0.0000,  0.0000],\n",
        "[ 0.0000,  0.0000, -0.0721,  0.1578, -0.7735,  0.0000,  0.0000],\n",
        "[ 0.0000,  0.0000,  0.0000,  0.0000,  0.0000,  0.0000,  0.0000],\n",
        "[ 0.0000,  0.0000,  0.0000,  0.0000,  0.0000,  0.0000,  0.0000]]\n",
        "```"
      ]
    },
    {
      "cell_type": "markdown",
      "metadata": {
        "id": "7WS3HpFQQuUF",
        "colab_type": "text"
      },
      "source": [
        "### 3.2 - Single step of convolution \n",
        "\n",
        "In this part, implement a single step of convolution, in which you apply the filter to a single position of the input. This will be used to build a convolutional unit, which: \n",
        "\n",
        "- Takes an input volume \n",
        "- Applies a filter at every position of the input\n",
        "- Outputs another volume (usually of different size)\n",
        "\n",
        "![Convolution_schematic.gif](https://drive.google.com/thumbnail?id=1I1UwM5aR9c0YeHYyRmgFjl74sK4mKycI&sz=w400)\n",
        "<caption><center> <u> <font color='purple'> **Figure 2** </u><font color='purple'>  : **Convolution operation**<br> with a filter of 3x3 and a stride of 1 (stride = amount you move the window each time you slide) </center></caption>\n",
        "\n",
        "In a computer vision application, each value in the matrix on the left corresponds to a single pixel value, and we convolve a 3x3 filter with the image by multiplying its values element-wise with the original matrix, then summing them up and adding a bias. In this first step of the exercise, you will implement a single step of convolution, corresponding to applying a filter to just one of the positions to get a single real-valued output. \n",
        "\n",
        "Later in this notebook, you'll apply this function to multiple positions of the input to implement the full convolutional operation. \n",
        "\n",
        "**Exercise**: Implement conv_single_step().\n"
      ]
    },
    {
      "cell_type": "markdown",
      "metadata": {
        "id": "4Mh2E1KtQuUG",
        "colab_type": "text"
      },
      "source": [
        "**Note**: The variable b will be passed in as a tensor.  If we add a scalar (a float or integer) to a tensor, the result is a tensor.  In the special case when a tensor contains a single value, we can cast it as a float to convert it to a scalar."
      ]
    },
    {
      "cell_type": "code",
      "metadata": {
        "colab_type": "code",
        "id": "Tmfgadi6oX_E",
        "colab": {}
      },
      "source": [
        "# GRADED FUNCTION: conv_single_step\n",
        "\n",
        "def conv_single_step(a_slice_prev, W, b):\n",
        "    \"\"\"\n",
        "    Apply one filter defined by parameters W on a single slice (a_slice_prev) of the output activation \n",
        "    of the previous layer.\n",
        "    \n",
        "    Arguments:\n",
        "    a_slice_prev -- slice of input data of shape (n_C_prev, f, f)\n",
        "    W -- Weight parameters contained in a window - matrix of shape (n_C_prev, f, f)\n",
        "    b -- Bias parameters contained in a window - matrix of shape (1, 1, 1)\n",
        "    \n",
        "    Returns:\n",
        "    Z -- a scalar value, the result of convolving the sliding window (W, b) on a slice x of the input data\n",
        "    \"\"\"\n",
        "\n",
        "    ### START CODE HERE ### (≈ 2 lines of code)\n",
        "    # Element-wise product between a_slice_prev and W. Do not add the bias yet.\n",
        "    #s = torch.mul(a_slice_prev,W) + b  \n",
        "    s = a_slice_prev * W \n",
        "    # Sum over all entries of the volume s.\n",
        "    Z =  torch.sum(s)\n",
        "    # Add bias b to Z. Cast b to a float() so that Z results in a scalar value.\n",
        "    Z = Z + float(b)\n",
        "    ### END CODE HERE ###\n",
        "\n",
        "    return Z"
      ],
      "execution_count": 0,
      "outputs": []
    },
    {
      "cell_type": "code",
      "metadata": {
        "id": "Bp8UZxmWQuUI",
        "colab_type": "code",
        "outputId": "6e6a8207-e887-4f53-ba43-cbb551d437c0",
        "colab": {
          "base_uri": "https://localhost:8080/",
          "height": 34
        }
      },
      "source": [
        "torch.manual_seed(1)\n",
        "\n",
        "a_slice_prev = torch.randn(3,4,4)\n",
        "W = torch.randn(3,4,4)\n",
        "b = torch.randn(1,1,1)\n",
        "\n",
        "Z = conv_single_step(a_slice_prev, W, b)\n",
        "print(\"Z =\", Z)"
      ],
      "execution_count": 85,
      "outputs": [
        {
          "output_type": "stream",
          "text": [
            "Z = tensor(-8.5554)\n"
          ],
          "name": "stdout"
        }
      ]
    },
    {
      "cell_type": "markdown",
      "metadata": {
        "id": "OS8cbJtoQuUL",
        "colab_type": "text"
      },
      "source": [
        "**Expected Output**:\n",
        "<table>\n",
        "    <tr>\n",
        "        <td>\n",
        "            **Z**\n",
        "        </td>\n",
        "        <td>\n",
        "            -8.5554\n",
        "        </td>\n",
        "    </tr>\n",
        "\n",
        "</table>"
      ]
    },
    {
      "cell_type": "markdown",
      "metadata": {
        "id": "PZ33rA-1QuUL",
        "colab_type": "text"
      },
      "source": [
        "### 3.3 - Convolutional Neural Networks - Forward pass\n",
        "\n",
        "In the forward pass, you will take many filters and convolve them on the input. Each 'convolution' gives you a 2D matrix output. You will then stack these outputs to get a 3D volume: \n",
        "\n",
        "**Exercise**: \n",
        "Implement the function below to convolve the filters `W` on an input activation `A_prev`.  \n",
        "This function takes the following inputs:\n",
        "* `A_prev`, the activations output by the previous layer (for a batch of m inputs); \n",
        "* Weights are denoted by `W`.  The filter window size is `f` by `f`.\n",
        "* The bias vector is `b`, where each filter has its own (single) bias. \n",
        "\n",
        "Finally you also have access to the hyperparameters dictionary which contains the stride and the padding. \n",
        "\n",
        "**Hint**: \n",
        "1. To select a 2x2 slice at the upper left corner of a matrix \"a_prev\" (shape (3,5,5)), you would do:\n",
        "```python\n",
        "a_slice_prev = a_prev[:,0:2,0:2]\n",
        "```\n",
        "Notice how this gives a 3D slice that has height 2, width 2, and depth 3.  Depth is the number of channels.  \n",
        "This will be useful when you will define `a_slice_prev` below, using the `start/end` indexes you will define.\n",
        "2. To define a_slice you will need to first define its corners `vert_start`, `vert_end`, `horiz_start` and `horiz_end`. This figure may be helpful for you to find out how each of the corner can be defined using h, w, f and s in the code below.\n",
        "\n",
        "<img src=\"https://drive.google.com/thumbnail?id=1nOKKH-q_bVb4zKxhxTr__nEpd1w1B31v&sz=w600\">\n",
        "<caption><center> <u> <font color='purple'> **Figure 3** </u><font color='purple'>  : **Definition of a slice using vertical and horizontal start/end (with a 2x2 filter)** <br> This figure shows only a single channel.  </center></caption>\n",
        "\n",
        "\n",
        "**Reminder**:\n",
        "The formulas relating the output shape of the convolution to the input shape is:\n",
        "$$ n_H = \\lfloor \\frac{n_{H_{prev}} - f + 2 \\times pad}{stride} \\rfloor +1 $$\n",
        "$$ n_W = \\lfloor \\frac{n_{W_{prev}} - f + 2 \\times pad}{stride} \\rfloor +1 $$\n",
        "$$ n_C = \\text{number of filters used in the convolution}$$\n",
        "\n",
        "For this exercise, we won't worry about vectorization, and will just implement everything with for-loops."
      ]
    },
    {
      "cell_type": "markdown",
      "metadata": {
        "id": "qornXleJQuUM",
        "colab_type": "text"
      },
      "source": [
        "#### Additional Hints if you're stuck\n",
        "\n",
        "\n",
        "* You will want to use array slicing (e.g.`varname[0:1,:,3:5]`) for the following variables:  \n",
        "  `a_prev_pad` ,`W`, `b`  \n",
        "  Copy the starter code of the function and run it outside of the defined function, in separate cells.  \n",
        "  Check that the subset of each array is the size and dimension that you're expecting.  \n",
        "* To decide how to get the vert_start, vert_end; horiz_start, horiz_end, remember that these are indices of the previous layer.  \n",
        "  Draw an example of a previous padded layer (8 x 8, for instance), and the current (output layer) (2 x 2, for instance).  \n",
        "  The output layer's indices are denoted by `h` and `w`.  \n",
        "* Make sure that `a_slice_prev` has a height, width and depth.\n",
        "* Remember that `a_prev_pad` is a subset of `A_prev_pad`.  \n",
        "  Think about which one should be used within the for loops."
      ]
    },
    {
      "cell_type": "code",
      "metadata": {
        "colab_type": "code",
        "id": "LHGSapNxX6zr",
        "colab": {}
      },
      "source": [
        "# GRADED FUNCTION: conv_forward\n",
        "\n",
        "def conv_forward(A_prev, W, b, hparameters):\n",
        "    \"\"\"\n",
        "    Implements the forward propagation for a convolution function\n",
        "    \n",
        "    Arguments:\n",
        "    A_prev -- output activations of the previous layer, \n",
        "        torch tensor of shape (m, n_C_prev, n_H_prev, n_W_prev)\n",
        "    W -- Weights, torch tensor of shape (n_C_prev, f, f, n_C)\n",
        "    b -- Biases, torch tensor of shape (1, 1, 1, n_C)\n",
        "    hparameters -- python dictionary containing \"stride\" and \"pad\"\n",
        "        \n",
        "    Returns:\n",
        "    Z -- conv output, torch tensor of shape (m, n_C, n_H, n_W)\n",
        "    cache -- cache of values needed for the conv_backward() function\n",
        "    \"\"\"\n",
        "    \n",
        "    ### START CODE HERE ###\n",
        "    # Retrieve dimensions from A_prev's shape (≈1 line)  \n",
        "    (m, n_C_prev, n_H_prev, n_W_prev) = A_prev.shape\n",
        "    \n",
        "    # Retrieve dimensions from W's shape (≈1 line)\n",
        "    (n_C_prev, f, f, n_C) = W.shape\n",
        "    \n",
        "    # Retrieve information from \"hparameters\" (≈2 lines)\n",
        "    stride = hparameters['stride']\n",
        "    pad = hparameters['pad']\n",
        "    \n",
        "    # Compute the dimensions of the CONV output volume using the formula given above. \n",
        "    # Hint: use int() to apply the 'floor' operation. (≈2 lines)\n",
        "    n_H = int((n_H_prev+(2*pad)-f)/stride) + 1\n",
        "    n_W = int((n_W_prev+(2*pad)-f)/stride) + 1 \n",
        "    \n",
        "    # Initialize the output volume Z with zeros. (≈1 line)\n",
        "    Z = torch.zeros((m,n_C,n_H,n_W))\n",
        "\n",
        "    \n",
        "    \n",
        "    # Create A_prev_pad by padding A_prev\n",
        "    _pad = nn.ZeroPad2d(pad)   \n",
        "    A_prev_pad = _pad(A_prev)\n",
        "    \n",
        "    for i in range(m):               # loop over the batch of training examples\n",
        "        a_prev_pad = A_prev_pad[i,:,:,:]               # Select ith training example's padded activation\n",
        "        for h in range(n_H):           # loop over vertical axis of the output volume\n",
        "            # Find the vertical start and end of the current \"slice\" (≈2 lines)\n",
        "            vert_start = h*stride\n",
        "            vert_end = (h*stride)+f\n",
        "                       \n",
        "            for w in range(n_W):       # loop over horizontal axis of the output volume\n",
        "                # Find the horizontal start and end of the current \"slice\" (≈2 lines)\n",
        "                horiz_start = w*stride\n",
        "                horiz_end = (w*stride)+f\n",
        "                \n",
        "                for c in range(n_C):   # loop over channels (= #filters) of the output volume\n",
        "                                        \n",
        "                    # Use the corners to define the (3D) slice of a_prev_pad (See Hint above the cell). (≈1 line)\n",
        "                    a_slice_prev = a_prev_pad[:,vert_start : vert_end,horiz_start :horiz_end]\n",
        "                    \n",
        "                    # Convolve the (3D) slice with the correct filter W and bias b, to get back one output neuron. (≈3 line)\n",
        "                    weights = W[:,:,:,c]\n",
        "                    biases = b[:,:,:,c]\n",
        "                    Z[i, c, h, w] = conv_single_step(a_slice_prev, weights, biases)\n",
        "                                        \n",
        "    ### END CODE HERE ###\n",
        "    \n",
        "    # Making sure your output shape is correct\n",
        "    assert(Z.shape == (m, n_C, n_H, n_W))\n",
        "    \n",
        "    # Save information in \"cache\" for the backprop\n",
        "    cache = (A_prev, W, b, hparameters)\n",
        "    \n",
        "    return Z, cache"
      ],
      "execution_count": 0,
      "outputs": []
    },
    {
      "cell_type": "code",
      "metadata": {
        "id": "2gjoI3jfQuUP",
        "colab_type": "code",
        "outputId": "0c287fff-592e-42df-d5c1-3640f0b493aa",
        "colab": {
          "base_uri": "https://localhost:8080/",
          "height": 124
        }
      },
      "source": [
        "torch.manual_seed(1)\n",
        "A_prev = torch.randn(10,4,5,7)\n",
        "W = torch.randn(4,3,3,8)\n",
        "b = torch.randn(1,1,1,8)\n",
        "hparameters = {\"pad\" : 1,\n",
        "               \"stride\": 2}\n",
        "\n",
        "\n",
        "Z, cache_conv = conv_forward(A_prev, W, b, hparameters)\n",
        "print(\"Z's mean =\\n\", torch.mean(Z))\n",
        "print(\"Z[3,2,1] =\\n\", Z[3,:,2,1])\n",
        "print(\"cache_conv[0][1][2][3] =\\n\", cache_conv[0][1][2][3])"
      ],
      "execution_count": 87,
      "outputs": [
        {
          "output_type": "stream",
          "text": [
            "Z's mean =\n",
            " tensor(-0.3294)\n",
            "Z[3,2,1] =\n",
            " tensor([ 0.5648,  3.0823,  5.3929, -0.4358, -1.9275,  7.4754, -2.3530, -4.6575])\n",
            "cache_conv[0][1][2][3] =\n",
            " tensor([ 0.3872, -0.0798,  0.3417,  0.9488, -1.3839,  1.7241, -2.3648])\n"
          ],
          "name": "stdout"
        }
      ]
    },
    {
      "cell_type": "markdown",
      "metadata": {
        "id": "xe64Y25FQuUR",
        "colab_type": "text"
      },
      "source": [
        "**Expected Output**:\n",
        "```\n",
        "Z's mean =\n",
        " -0.3294\n",
        "Z[3,2,1] =\n",
        " [ 0.5648,  3.0823,  5.3929, -0.4358, -1.9275,  7.4754, -2.3530, -4.6575]\n",
        "cache_conv[0][1][2][3] = [ 0.3872, -0.0798,  0.3417,  0.9488, -1.3839,  1.7241, -2.3648]\n",
        "```"
      ]
    },
    {
      "cell_type": "markdown",
      "metadata": {
        "id": "iI736CMHQuUS",
        "colab_type": "text"
      },
      "source": [
        "Finally, CONV layer should also contain an activation, in which case we would add the following line of code:\n",
        "\n",
        "```python\n",
        "# Convolve the window to get back one output neuron\n",
        "Z[i, c, h, w] = ...\n",
        "# Apply activation\n",
        "A[i, c, h, w] = activation(Z[i, c, h, w])\n",
        "```\n",
        "\n",
        "You don't need to do it here. \n"
      ]
    },
    {
      "cell_type": "markdown",
      "metadata": {
        "id": "vECYw-VCQuUS",
        "colab_type": "text"
      },
      "source": [
        "## 4 - Pooling layer \n",
        "\n",
        "The pooling (POOL) layer reduces the height and width of the input. It helps reduce computation, as well as helps make feature detectors more invariant to its position in the input. The two types of pooling layers are: \n",
        "\n",
        "- Max-pooling layer: slides an ($f, f$) window over the input and stores the max value of the window in the output.\n",
        "\n",
        "- Average-pooling layer: slides an ($f, f$) window over the input and stores the average value of the window in the output.\n",
        "\n",
        "<table>\n",
        "<td>\n",
        "<img src=\"https://drive.google.com/thumbnail?id=1sGO-RUqu6zvaF0zS4HX8rz4FHWsKpmEj&sz=w500\">\n",
        "<td>\n",
        "\n",
        "\n",
        "\n",
        "<td>\n",
        "<img src=\"https://drive.google.com/thumbnail?id=1hdMPYYmp60iEnH4rj1KWodtHOl7KgneC&sz=w500\">\n",
        "<td>\n",
        "</table>\n",
        "\n",
        "These pooling layers have no parameters for backpropagation to train. However, they have hyperparameters such as the window size $f$. This specifies the height and width of the $f \\times f$ window you would compute a *max* or *average* over. \n",
        "\n",
        "### 4.1 - Forward Pooling\n",
        "Now, you are going to implement MAX-POOL and AVG-POOL, in the same function. \n",
        "\n",
        "**Exercise**: Implement the forward pass of the pooling layer. Follow the hints in the comments below.\n",
        "\n",
        "**Reminder**:\n",
        "As there's no padding, the formulas binding the output shape of the pooling to the input shape is:\n",
        "\n",
        "$$ n_H = \\lfloor \\frac{n_{H_{prev}} - f}{stride} \\rfloor +1 $$\n",
        "\n",
        "$$ n_W = \\lfloor \\frac{n_{W_{prev}} - f}{stride} \\rfloor +1 $$\n",
        "\n",
        "$$ n_C = n_{C_{prev}}$$"
      ]
    },
    {
      "cell_type": "code",
      "metadata": {
        "colab_type": "code",
        "id": "yFQS1KFCoJLm",
        "colab": {}
      },
      "source": [
        "# GRADED FUNCTION: pool_forward\n",
        "\n",
        "def pool_forward(A_prev, hparameters, mode = \"max\"):\n",
        "    \"\"\"\n",
        "    Implements the forward pass of the pooling layer\n",
        "    \n",
        "    Arguments:\n",
        "    A_prev -- Input data, torch tensor of shape (m, n_C_prev, n_H_prev, n_W_prev)\n",
        "    hparameters -- python dictionary containing \"f\" and \"stride\"\n",
        "    mode -- the pooling mode you would like to use, defined as a string (\"max\" or \"average\")\n",
        "    \n",
        "    Returns:\n",
        "    A -- output of the pool layer, a torch tensor of shape (m, n_C, n_H, n_W)\n",
        "    cache -- cache used in the backward pass of the pooling layer, contains the input and hparameters \n",
        "    \"\"\"\n",
        "    \n",
        "    # Retrieve dimensions from the input shape\n",
        "    (m, n_C_prev, n_H_prev, n_W_prev) = A_prev.shape\n",
        "    \n",
        "    # Retrieve hyperparameters from \"hparameters\"\n",
        "    f = hparameters[\"f\"]\n",
        "    stride = hparameters[\"stride\"]\n",
        "    \n",
        "    # Define the dimensions of the output\n",
        "    n_H = int(1 + (n_H_prev - f) / stride)\n",
        "    n_W = int(1 + (n_W_prev - f) / stride)\n",
        "    n_C = n_C_prev\n",
        "    \n",
        "    # Initialize output matrix A\n",
        "    A = torch.zeros((m, n_C, n_H, n_W))              \n",
        "    \n",
        "    ### START CODE HERE ###\n",
        "    for i in range(m):                         # loop over the training examples\n",
        "        for h in range(n_H):                     # loop on the vertical axis of the output volume\n",
        "            # Find the vertical start and end of the current \"slice\" (≈2 lines)\n",
        "            vert_start = vert_start = (stride*h) \n",
        "            vert_end = (stride*h) + f\n",
        "        \n",
        "            \n",
        "            for w in range(n_W):                 # loop on the horizontal axis of the output volume\n",
        "                # Find the vertical start and end of the current \"slice\" (≈2 lines)\n",
        "                horiz_start = horiz_start =(stride*w) \n",
        "                horiz_end = (stride*w) +f\n",
        "                \n",
        "                for c in range (n_C):            # loop over the channels of the output volume                    \n",
        "                    # Use the corners to define the current slice on the ith training example of A_prev, channel c. (≈1 line)\n",
        "                    a_prev_slice = A_prev[i,vert_start:vert_end , horiz_start : horiz_end , c]\n",
        "                    \n",
        "                    # Compute the pooling operation on the slice. \n",
        "                    # Use an if statement to differentiate the modes. \n",
        "                    # Use torch.max and torch.mean.\n",
        "                    if mode == \"max\":\n",
        "                        A[i, c, h, w] = torch.max(a_prev_slice)\n",
        "                    elif mode == \"average\":\n",
        "                        A[i, c, h, w] = torch.mean(a_prev_slice)\n",
        "    \n",
        "    ### END CODE HERE ###\n",
        "    \n",
        "    # Store the input and hparameters in \"cache\" for pool_backward()\n",
        "    cache = (A_prev, hparameters)\n",
        "    \n",
        "    # Making sure your output shape is correct\n",
        "    assert(A.shape == (m, n_C, n_H, n_W))\n",
        "    \n",
        "    return A, cache"
      ],
      "execution_count": 0,
      "outputs": []
    },
    {
      "cell_type": "code",
      "metadata": {
        "id": "Pt9pzfr4QuUV",
        "colab_type": "code",
        "outputId": "28b2ebae-12d7-4ed4-ce0b-b2fc0be62c55",
        "colab": {
          "base_uri": "https://localhost:8080/",
          "height": 1000
        }
      },
      "source": [
        "# Case 1: stride of 1\n",
        "torch.manual_seed(1)\n",
        "A_prev = torch.randn(2, 3, 5, 5)\n",
        "hparameters = {\"stride\" : 1, \"f\": 3}\n",
        "\n",
        "A, cache = pool_forward(A_prev, hparameters)\n",
        "print(\"mode = max\")\n",
        "print(\"A.shape = \" + str(A.shape))\n",
        "print(\"A =\\n\", A)\n",
        "print()\n",
        "A, cache = pool_forward(A_prev, hparameters, mode = \"average\")\n",
        "print(\"mode = average\")\n",
        "print(\"A.shape = \" + str(A.shape))\n",
        "print(\"A =\\n\", A)"
      ],
      "execution_count": 89,
      "outputs": [
        {
          "output_type": "stream",
          "text": [
            "mode = max\n",
            "A.shape = torch.Size([2, 3, 3, 3])\n",
            "A =\n",
            " tensor([[[[ 2.0154,  2.0154,  1.6734],\n",
            "          [ 2.0154,  2.0154,  1.6734],\n",
            "          [ 2.0154,  2.0154,  1.6734]],\n",
            "\n",
            "         [[ 0.1991,  0.2927,  1.5748],\n",
            "          [ 0.1991,  0.2927,  1.5748],\n",
            "          [ 0.1374,  0.1374,  0.0103]],\n",
            "\n",
            "         [[ 1.8793,  1.8793,  0.0457],\n",
            "          [ 1.8793,  1.8793,  0.0457],\n",
            "          [ 0.9386,  0.9386, -0.7040]]],\n",
            "\n",
            "\n",
            "        [[[ 1.7986,  0.8168,  2.5581],\n",
            "          [ 1.7986,  0.8168,  2.5581],\n",
            "          [ 1.7986,  0.3539,  0.0375]],\n",
            "\n",
            "         [[ 1.1996,  1.1996,  0.7575],\n",
            "          [ 1.1996,  1.1996,  0.7575],\n",
            "          [ 1.1996,  1.1996,  0.7575]],\n",
            "\n",
            "         [[ 0.8738,  0.8738,  1.1899],\n",
            "          [ 0.8738,  0.8738,  0.8738],\n",
            "          [ 0.3400, -0.3030, -0.4068]]]])\n",
            "\n",
            "mode = average\n",
            "A.shape = torch.Size([2, 3, 3, 3])\n",
            "A =\n",
            " tensor([[[[-1.1540e-01, -7.7895e-03,  9.1505e-02],\n",
            "          [ 3.1224e-01,  1.4146e-01,  4.4588e-02],\n",
            "          [ 1.2070e+00,  8.4377e-01,  7.2978e-01]],\n",
            "\n",
            "         [[-5.9209e-01, -3.2182e-01, -1.0318e-02],\n",
            "          [-5.5789e-01, -1.6137e-01,  1.0186e-01],\n",
            "          [-3.8974e-01, -4.4279e-01, -4.8514e-01]],\n",
            "\n",
            "         [[-4.0407e-01, -5.1366e-01, -8.6984e-01],\n",
            "          [-1.9189e-01, -2.7181e-01, -9.6377e-01],\n",
            "          [-5.4330e-01, -1.1327e+00, -1.6802e+00]]],\n",
            "\n",
            "\n",
            "        [[[-8.0254e-02, -3.6241e-01, -2.6489e-02],\n",
            "          [ 1.8604e-01, -2.0220e-01, -1.1452e-01],\n",
            "          [ 2.0169e-01, -3.8535e-01, -8.6127e-01]],\n",
            "\n",
            "         [[-2.0157e-02,  1.4349e-01,  3.5778e-02],\n",
            "          [ 1.3665e-03,  4.7950e-02, -2.0722e-01],\n",
            "          [ 6.8630e-01,  4.3975e-01, -2.7290e-02]],\n",
            "\n",
            "         [[-2.1653e-01, -2.5008e-01, -5.8486e-02],\n",
            "          [-9.5792e-02, -6.4740e-02, -8.4660e-02],\n",
            "          [-1.2325e-01, -4.7204e-01, -5.5780e-01]]]])\n"
          ],
          "name": "stdout"
        }
      ]
    },
    {
      "cell_type": "markdown",
      "metadata": {
        "id": "9FlQTPgUQuUX",
        "colab_type": "text"
      },
      "source": [
        "** Expected Output**\n",
        "```\n",
        "mode = max\n",
        "A.shape = (2, 3, 3, 3)\n",
        "A =\n",
        " [[[[-0.22227049  1.6871134   1.6871134 ]\n",
        "   [ 0.46763551  1.6871134   1.6871134 ]\n",
        "   [ 0.86569238  1.6871134   1.6871134 ]]\n",
        "\n",
        "  [[ 1.87934577  1.87934577  1.87934577]\n",
        "   [ 1.87934577  1.87934577  2.35711098]\n",
        "   [ 1.57479811  1.57479811  2.35711098]]\n",
        "\n",
        "  [[ 2.01539183  0.93864471  1.16513848]\n",
        "   [ 2.01539183  0.93864471  0.93864471]\n",
        "   [ 1.67342722  0.01034283 -0.00754753]]]\n",
        "\n",
        "\n",
        " [[[ 0.17163314  0.73169369  0.73169369]\n",
        "   [ 0.7322672   0.7322672   0.73169369]\n",
        "   [ 1.9907043   1.18992054  1.18992054]]\n",
        "\n",
        "  [[ 1.38514566  1.11196327  1.33520567]\n",
        "   [ 0.87379628  0.87379628  1.28578448]\n",
        "   [ 2.55813837  1.8606348   1.8606348 ]]\n",
        "\n",
        "  [[ 1.79858291  1.19961321  0.71236455]\n",
        "   [ 1.19961321  2.55708623  2.55708623]\n",
        "   [ 0.7574802   2.55708623  2.55708623]]]]\n",
        "\n",
        "mode = average\n",
        "A.shape = (2, 3, 3, 3)\n",
        "A =\n",
        " [[[[-0.8198784  -0.56681371 -0.29865372]\n",
        "   [-0.64879954 -0.36064631 -0.06515426]\n",
        "   [-0.24377264  0.049333    0.29746759]]\n",
        "\n",
        "  [[-0.38299945 -0.17306148 -0.03500906]\n",
        "   [ 0.04942527  0.24215667  0.42871603]\n",
        "   [-0.06635702  0.05793093  0.09792912]]\n",
        "\n",
        "  [[ 0.09131047 -0.36572069 -0.18080822]\n",
        "   [-0.24389918 -0.65231997 -0.58002311]\n",
        "   [-0.47852543 -0.84886843 -0.80151892]]]\n",
        "\n",
        "\n",
        " [[[-0.37802416 -0.02019546 -0.32341847]\n",
        "   [-0.32301453 -0.03813121 -0.33245149]\n",
        "   [ 0.22173601  0.23858033 -0.06027411]]\n",
        "\n",
        "  [[-0.19383496 -0.42289799  0.027288  ]\n",
        "   [-0.00677807 -0.23672493 -0.0960435 ]\n",
        "   [ 0.21118723  0.20444627  0.20840965]]\n",
        "\n",
        "  [[ 0.25491434  0.05688262 -0.27685916]\n",
        "   [-0.13921364  0.06340432  0.09485038]\n",
        "   [-0.48212051  0.15064473  0.21906291]]]]\n",
        "```"
      ]
    },
    {
      "cell_type": "code",
      "metadata": {
        "id": "NWJgdWsVQuUY",
        "colab_type": "code",
        "outputId": "6c345ffc-7af9-405a-9074-f535429cdde2",
        "colab": {
          "base_uri": "https://localhost:8080/",
          "height": 790
        }
      },
      "source": [
        "# Case 2: stride of 2\n",
        "torch.manual_seed(1)\n",
        "A_prev = torch.randn(2, 3, 5, 5)\n",
        "hparameters = {\"stride\" : 2, \"f\": 3}\n",
        "\n",
        "A, cache = pool_forward(A_prev, hparameters)\n",
        "print(\"mode = max\")\n",
        "print(\"A.shape = \" + str(A.shape))\n",
        "print(\"A =\\n\", A)\n",
        "print()\n",
        "\n",
        "A, cache = pool_forward(A_prev, hparameters, mode = \"average\")\n",
        "print(\"mode = average\")\n",
        "print(\"A.shape = \" + str(A.shape))\n",
        "print(\"A =\\n\", A)"
      ],
      "execution_count": 90,
      "outputs": [
        {
          "output_type": "stream",
          "text": [
            "mode = max\n",
            "A.shape = torch.Size([2, 3, 2, 2])\n",
            "A =\n",
            " tensor([[[[ 2.0154,  1.6734],\n",
            "          [ 2.0154,  1.6734]],\n",
            "\n",
            "         [[ 0.1991,  1.5748],\n",
            "          [ 0.1374,  0.0103]],\n",
            "\n",
            "         [[ 1.8793,  0.0457],\n",
            "          [ 0.9386, -0.7040]]],\n",
            "\n",
            "\n",
            "        [[[ 1.7986,  2.5581],\n",
            "          [ 1.7986,  0.0375]],\n",
            "\n",
            "         [[ 1.1996,  0.7575],\n",
            "          [ 1.1996,  0.7575]],\n",
            "\n",
            "         [[ 0.8738,  1.1899],\n",
            "          [ 0.3400, -0.4068]]]])\n",
            "\n",
            "mode = average\n",
            "A.shape = torch.Size([2, 3, 2, 2])\n",
            "A =\n",
            " tensor([[[[-0.1154,  0.0915],\n",
            "          [ 1.2070,  0.7298]],\n",
            "\n",
            "         [[-0.5921, -0.0103],\n",
            "          [-0.3897, -0.4851]],\n",
            "\n",
            "         [[-0.4041, -0.8698],\n",
            "          [-0.5433, -1.6802]]],\n",
            "\n",
            "\n",
            "        [[[-0.0803, -0.0265],\n",
            "          [ 0.2017, -0.8613]],\n",
            "\n",
            "         [[-0.0202,  0.0358],\n",
            "          [ 0.6863, -0.0273]],\n",
            "\n",
            "         [[-0.2165, -0.0585],\n",
            "          [-0.1233, -0.5578]]]])\n"
          ],
          "name": "stdout"
        }
      ]
    },
    {
      "cell_type": "markdown",
      "metadata": {
        "id": "eDD74cgyQuUa",
        "colab_type": "text"
      },
      "source": [
        "**Expected Output:**\n",
        "    \n",
        "```\n",
        "mode = max\n",
        "A.shape = (2, 2, 2, 3)\n",
        "A =\n",
        " [[[[-0.22227049  1.6871134 ]\n",
        "   [ 0.86569238  1.6871134 ]]\n",
        "\n",
        "  [[ 1.87934577  1.87934577]\n",
        "   [ 1.57479811  2.35711098]]\n",
        "\n",
        "  [[ 2.01539183  1.16513848]\n",
        "   [ 1.67342722 -0.00754753]]]\n",
        "\n",
        "\n",
        " [[[ 0.17163314  0.73169369]\n",
        "   [ 1.9907043   1.18992054]]\n",
        "\n",
        "  [[ 1.38514566  1.33520567]\n",
        "   [ 2.55813837  1.8606348 ]]\n",
        "\n",
        "  [[ 1.79858291  0.71236455]\n",
        "   [ 0.7574802   2.55708623]]]]\n",
        "\n",
        "mode = average\n",
        "A.shape = (2, 2, 2, 3)\n",
        "A =\n",
        " [[[[-0.8198784  -0.29865372]\n",
        "   [-0.24377264  0.29746759]]\n",
        "\n",
        "  [[-0.38299945 -0.03500906]\n",
        "   [-0.06635702  0.09792912]]\n",
        "\n",
        "  [[ 0.09131047 -0.18080822]\n",
        "   [-0.47852543 -0.80151892]]]\n",
        "\n",
        "\n",
        " [[[-0.37802416 -0.32341847]\n",
        "   [ 0.22173601 -0.06027411]]\n",
        "\n",
        "  [[-0.19383496  0.027288  ]\n",
        "   [ 0.21118723  0.20840965]]\n",
        "\n",
        "  [[ 0.25491434 -0.27685916]\n",
        "   [-0.48212051  0.21906291]]]]\n",
        "```"
      ]
    },
    {
      "cell_type": "markdown",
      "metadata": {
        "id": "An4MiR2JQuUb",
        "colab_type": "text"
      },
      "source": [
        "Congratulations! You have now implemented the forward passes of all the layers of a convolutional network. "
      ]
    }
  ]
}